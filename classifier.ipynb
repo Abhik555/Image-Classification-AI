{
 "cells": [
  {
   "cell_type": "markdown",
   "metadata": {},
   "source": [
    "# Importing Libraries"
   ]
  },
  {
   "cell_type": "code",
   "execution_count": 3,
   "metadata": {},
   "outputs": [],
   "source": [
    "import numpy as np\n",
    "import torch.nn as nn\n",
    "import torch.nn.functional as F\n",
    "import torch\n",
    "import torchvision\n",
    "import torchvision.transforms as transforms\n",
    "import matplotlib.pyplot as plt\n",
    "\n",
    "import torch.optim as optim"
   ]
  },
  {
   "cell_type": "code",
   "execution_count": 9,
   "metadata": {},
   "outputs": [],
   "source": [
    "#Hyper parameters\n",
    "\n",
    "bsize = 4\n",
    "loss_rate = 0.001\n",
    "momentum = 0.9\n",
    "output_path = \"./classifier.pth\"\n",
    "train_iterations = 2\n",
    "device = 'cuda' if torch.cuda.is_available() else 'cpu'"
   ]
  },
  {
   "cell_type": "code",
   "execution_count": 14,
   "metadata": {},
   "outputs": [],
   "source": [
    "#Utility Functions\n",
    "\n",
    "def imshow(img):\n",
    "    img = img / 2 + 0.5     # unnormalize\n",
    "    npimg = img.numpy()\n",
    "    plt.imshow(np.transpose(npimg, (1, 2, 0)))\n",
    "    plt.show()\n",
    "\n"
   ]
  },
  {
   "cell_type": "code",
   "execution_count": 6,
   "metadata": {},
   "outputs": [],
   "source": [
    "tranform = transforms.Compose([transforms.Resize((32,32)) ,transforms.ToTensor() , transforms.Normalize((0.5 ,0.5,0.5) , (0.5,0.5,0.5) )])"
   ]
  },
  {
   "cell_type": "code",
   "execution_count": 15,
   "metadata": {},
   "outputs": [
    {
     "name": "stdout",
     "output_type": "stream",
     "text": [
      "Files already downloaded and verified\n",
      "Files already downloaded and verified\n",
      "training set:  50000\n",
      "validation set:  10000\n"
     ]
    }
   ],
   "source": [
    "#Loading datasets\n",
    "\n",
    "training_set = torchvision.datasets.CIFAR10('./data/train' , train=True , transform=tranform , download=True)\n",
    "validation_set = torchvision.datasets.CIFAR10('./data/test' , train=False , transform=tranform , download=True)\n",
    "\n",
    "#Create Data Loaders\n",
    "\n",
    "train_dataloader = torch.utils.data.DataLoader(training_set , batch_size = bsize , shuffle=True)\n",
    "test_dataloader = torch.utils.data.DataLoader(validation_set , batch_size = bsize , shuffle=False)\n",
    "\n",
    "print('training set: ',len(training_set))\n",
    "print('validation set: ' ,len(validation_set))\n",
    "\n",
    "\n",
    "classes = ['airplane' ,'automobile','bird' ,'cat' ,'deer' ,'dog' ,'frog' ,'horse' ,'ship','truck']"
   ]
  },
  {
   "cell_type": "code",
   "execution_count": 96,
   "metadata": {},
   "outputs": [
    {
     "data": {
      "image/png": "[encoded data removed]",
      "text/plain": [
       "<Figure size 640x480 with 1 Axes>"
      ]
     },
     "metadata": {},
     "output_type": "display_data"
    },
    {
     "name": "stdout",
     "output_type": "stream",
     "text": [
      "bird  truck ship  dog  \n"
     ]
    }
   ],
   "source": [
    "\n",
    "# get some random training images\n",
    "dataiter = iter(train_dataloader)\n",
    "images, labels = next(dataiter)\n",
    "\n",
    "# show images\n",
    "imshow(torchvision.utils.make_grid(images))\n",
    "# print labels\n",
    "print(' '.join(f'{classes[labels[j]]:5s}' for j in range(bsize)))"
   ]
  },
  {
   "cell_type": "code",
   "execution_count": 7,
   "metadata": {},
   "outputs": [],
   "source": [
    "#Model\n",
    "\n",
    "class ImageClassifier(nn.Module):\n",
    "\n",
    "    def __init__(self):\n",
    "        super(ImageClassifier , self).__init__()\n",
    "\n",
    "        self.conv1 = nn.Conv2d(in_channels=3 , out_channels=6 , kernel_size=5) #3 input channel R G B , output to 6 , with kernel size of 5*5\n",
    "        self.pool = nn.MaxPool2d(kernel_size=2 , stride=2) # Find maximum value in 2*2 square on output tensor\n",
    "        self.conv2 = nn.Conv2d(in_channels=6 , out_channels=16 , kernel_size=5) # antoher convolution layer \n",
    "\n",
    "        self.fc1 = nn.Linear(in_features=16*5*5 , out_features= 128) # in feature is 16 * 5 *5  where 16 is output of conv2 with a feature map of 5 * 5 \n",
    "        self.fc2 = nn.Linear(in_features=128 , out_features= 84)\n",
    "        self.fc3 = nn.Linear(in_features=84 , out_features= 10)\n",
    "    \n",
    "    def forward(self ,x):\n",
    "        x = self.pool(F.relu(self.conv1(x)))\n",
    "        x = self.pool(F.relu(self.conv2(x)))\n",
    "        x = x.view(-1 , 16*5*5) #flatten image to 1d into proper format alternative torch.flatten(x ,1) , used x.view for clarity purpose\n",
    "\n",
    "        x = F.relu(self.fc1(x))\n",
    "        x = F.relu(self.fc2(x))\n",
    "        x = F.relu(self.fc3(x))\n",
    "\n",
    "        return x\n",
    "        "
   ]
  },
  {
   "cell_type": "code",
   "execution_count": 29,
   "metadata": {},
   "outputs": [],
   "source": [
    "classifier = ImageClassifier().to(device)"
   ]
  },
  {
   "cell_type": "code",
   "execution_count": 34,
   "metadata": {},
   "outputs": [],
   "source": [
    "# defining loss function\n",
    "\n",
    "criterion = nn.CrossEntropyLoss()\n",
    "optimizer = optim.SGD(params=classifier.parameters() , lr = loss_rate , momentum= momentum) #Scotastic Gradient Descent "
   ]
  },
  {
   "cell_type": "code",
   "execution_count": 36,
   "metadata": {},
   "outputs": [
    {
     "name": "stdout",
     "output_type": "stream",
     "text": [
      " [ 1 ,  2000 ] running loss =  3977.521087884903\n",
      " [ 1 ,  4000 ] running loss =  3877.1444787979126\n",
      " [ 1 ,  6000 ] running loss =  3755.9655770361423\n",
      " [ 1 ,  8000 ] running loss =  3667.9473499655724\n",
      " [ 1 ,  10000 ] running loss =  3592.00642991066\n",
      " [ 1 ,  12000 ] running loss =  3595.174206510186\n",
      " [ 2 ,  2000 ] running loss =  3393.5817890018225\n",
      " [ 2 ,  4000 ] running loss =  3329.739954471588\n",
      " [ 2 ,  6000 ] running loss =  3256.5493239164352\n",
      " [ 2 ,  8000 ] running loss =  3221.9444797188044\n",
      " [ 2 ,  10000 ] running loss =  3139.7033868432045\n",
      " [ 2 ,  12000 ] running loss =  3139.946608789265\n",
      "Training finished\n"
     ]
    }
   ],
   "source": [
    "# training loop\n",
    "for epoch in range(train_iterations):\n",
    "\n",
    "    running_loss = 0.0\n",
    "\n",
    "    for i , data in enumerate(train_dataloader):\n",
    "\n",
    "        #Parse the data\n",
    "        image , labels = data\n",
    "\n",
    "        image = image.to(device)\n",
    "        labels = labels.to(device)\n",
    "\n",
    "\n",
    "        optimizer.zero_grad() #reset gradient values\n",
    "\n",
    "        outputs = classifier(image)\n",
    "        \n",
    "        #calculate loss\n",
    "        loss = criterion(outputs , labels)\n",
    "        loss.backward()\n",
    "\n",
    "        optimizer.step()\n",
    "\n",
    "        #print stats\n",
    "        running_loss += loss.item()\n",
    "        if i % 2000 == 1999:\n",
    "            print('\\r Batch , Iterations [',epoch +1 ,', ',i +1,'] running loss = ',running_loss * (1/100),'%')\n",
    "            running_loss = 0.0\n",
    "\n",
    "torch.save(classifier.state_dict() , output_path) #save the model\n",
    "print('Training finished')"
   ]
  },
  {
   "cell_type": "code",
   "execution_count": 16,
   "metadata": {},
   "outputs": [
    {
     "data": {
      "image/png": "[encoded data removed]",
      "text/plain": [
       "<Figure size 640x480 with 1 Axes>"
      ]
     },
     "metadata": {},
     "output_type": "display_data"
    },
    {
     "name": "stdout",
     "output_type": "stream",
     "text": [
      "GroundTruth:  cat   ship  ship  airplane\n"
     ]
    }
   ],
   "source": [
    "#testing\n",
    "\n",
    "dataiter = iter(test_dataloader)\n",
    "images, labels = next(dataiter)\n",
    "\n",
    "# print images\n",
    "imshow(torchvision.utils.make_grid(images))\n",
    "print('GroundTruth: ', ' '.join(f'{classes[labels[j]]:5s}' for j in range(bsize)))"
   ]
  },
  {
   "cell_type": "code",
   "execution_count": 17,
   "metadata": {},
   "outputs": [
    {
     "data": {
      "text/plain": [
       "<All keys matched successfully>"
      ]
     },
     "execution_count": 17,
     "metadata": {},
     "output_type": "execute_result"
    }
   ],
   "source": [
    "net = ImageClassifier()\n",
    "net.load_state_dict(torch.load(output_path))"
   ]
  },
  {
   "cell_type": "code",
   "execution_count": 18,
   "metadata": {},
   "outputs": [
    {
     "name": "stdout",
     "output_type": "stream",
     "text": [
      "Predicted:  cat   ship  airplane airplane\n"
     ]
    }
   ],
   "source": [
    "outputs = net(images)\n",
    "\n",
    "_,predicted = torch.max(outputs ,1)\n",
    "\n",
    "\n",
    "print('Predicted: ', ' '.join(f'{classes[predicted[j]]:5s}'\n",
    "                              for j in range(4)))"
   ]
  },
  {
   "cell_type": "code",
   "execution_count": 19,
   "metadata": {},
   "outputs": [
    {
     "name": "stdout",
     "output_type": "stream",
     "text": [
      "Accuracy of the network on the 10000 test images: 61 %\n"
     ]
    }
   ],
   "source": [
    "correct = 0\n",
    "total = 0\n",
    "# don't need to calculate the gradients for our outputs\n",
    "with torch.no_grad():\n",
    "    for data in test_dataloader:\n",
    "        images, labels = data\n",
    "        \n",
    "        outputs = net(images)\n",
    "        # the class with the highest energy is what we choose as prediction\n",
    "        _, predicted = torch.max(outputs.data, 1)\n",
    "        total += labels.size(0)\n",
    "        correct += (predicted == labels).sum().item()\n",
    "\n",
    "print(f'Accuracy of the network on the 10000 test images: {100 * correct // total} %')"
   ]
  },
  {
   "cell_type": "code",
   "execution_count": 20,
   "metadata": {},
   "outputs": [
    {
     "name": "stdout",
     "output_type": "stream",
     "text": [
      "Accuracy for class: airplane is 66.7 %\n",
      "Accuracy for class: automobile is 75.3 %\n",
      "Accuracy for class: bird  is 54.8 %\n",
      "Accuracy for class: cat   is 48.5 %\n",
      "Accuracy for class: deer  is 53.9 %\n",
      "Accuracy for class: dog   is 37.2 %\n",
      "Accuracy for class: frog  is 73.2 %\n",
      "Accuracy for class: horse is 65.3 %\n",
      "Accuracy for class: ship  is 79.1 %\n",
      "Accuracy for class: truck is 61.6 %\n"
     ]
    }
   ],
   "source": [
    "# dicts to count the predications for each class\n",
    "correct_pred = {classname: 0 for classname in classes}\n",
    "total_pred = {classname: 0 for classname in classes}\n",
    "\n",
    "# no gradients needed\n",
    "with torch.no_grad():\n",
    "    for data in test_dataloader:\n",
    "        images, labels = data\n",
    "        outputs = net(images)\n",
    "        _, predictions = torch.max(outputs, 1)\n",
    "        # collect the correct predictions for each class\n",
    "        for label, prediction in zip(labels, predictions):\n",
    "            if label == prediction:\n",
    "                correct_pred[classes[label]] += 1\n",
    "            total_pred[classes[label]] += 1\n",
    "\n",
    "\n",
    "# print accuracy for each class\n",
    "for classname, correct_count in correct_pred.items():\n",
    "    accuracy = 100 * float(correct_count) / total_pred[classname]\n",
    "    print(f'Accuracy for class: {classname:5s} is {accuracy:.1f} %')"
   ]
  }
 ],
 "metadata": {
  "kernelspec": {
   "display_name": "Python 3",
   "language": "python",
   "name": "python3"
  },
  "language_info": {
   "codemirror_mode": {
    "name": "ipython",
    "version": 3
   },
   "file_extension": ".py",
   "mimetype": "text/x-python",
   "name": "python",
   "nbconvert_exporter": "python",
   "pygments_lexer": "ipython3",
   "version": "3.11.9"
  }
 },
 "nbformat": 4,
 "nbformat_minor": 2
}
